{
  "nbformat": 4,
  "nbformat_minor": 0,
  "metadata": {
    "colab": {
      "name": "DLm-Lec3.ipynb",
      "provenance": [],
      "collapsed_sections": [],
      "authorship_tag": "ABX9TyOmTVmzBlvwm/SjkAvpP6LE",
      "include_colab_link": true
    },
    "kernelspec": {
      "name": "python3",
      "display_name": "Python 3"
    }
  },
  "cells": [
    {
      "cell_type": "markdown",
      "metadata": {
        "id": "view-in-github",
        "colab_type": "text"
      },
      "source": [
        "<a href=\"https://colab.research.google.com/github/M-H-Amini/DeepLearningmini/blob/master/DLm_Lec3.ipynb\" target=\"_parent\"><img src=\"https://colab.research.google.com/assets/colab-badge.svg\" alt=\"Open In Colab\"/></a>"
      ]
    },
    {
      "cell_type": "markdown",
      "metadata": {
        "id": "7iiqkxzQguxx",
        "colab_type": "text"
      },
      "source": [
        "# In The Name Of ALLAH\n",
        "# Deep Learning *mini* Course\n",
        "## PythonChallenge.ir\n",
        "### Mohammad Hossein Amini (mhamini@aut.ac.ir)\n",
        "# Lecture 3 - Convolutional Neural Networks\n",
        "\n",
        "<img src=\"https://drive.google.com/uc?id=1ZJC1oII4kLDO1FM8SkaWr8_r63xrmrsn\" width=\"400\">\n",
        "\n"
      ]
    },
    {
      "cell_type": "markdown",
      "metadata": {
        "id": "SMgzrCzDmRhq",
        "colab_type": "text"
      },
      "source": [
        "# Introduction\n",
        "The theoretical stuff has been discussed in the video lectures. Let's dive into a funny example. There are 10 different types of clothes in the **Fashion MNIST** dataset. Today we would create a classifier for them using **Convolutional Neural Networks**. \n",
        "\n",
        "<img src=\"https://github.com/M-H-Amini/MachineLearning-AUT/blob/master/stuff/fashionMNIST.jpeg?raw=true\" width=\"400\">\n"
      ]
    },
    {
      "cell_type": "code",
      "metadata": {
        "id": "dCXQQloKgi13",
        "colab_type": "code",
        "colab": {}
      },
      "source": [
        "import tensorflow as tf\n",
        "from tensorflow import keras\n",
        "import numpy as np\n",
        "import matplotlib.pyplot as plt"
      ],
      "execution_count": null,
      "outputs": []
    },
    {
      "cell_type": "markdown",
      "metadata": {
        "id": "joBq3UM_mxtR",
        "colab_type": "text"
      },
      "source": [
        "# Loading Dataset\n",
        "Keras **datasets** has made the world easier for us today. It's better to normalize data before any processing."
      ]
    },
    {
      "cell_type": "code",
      "metadata": {
        "id": "HjmRYSPAhD1o",
        "colab_type": "code",
        "colab": {}
      },
      "source": [
        "fashion_mnist = keras.datasets.fashion_mnist\n",
        "(train_images, train_labels), (test_images, test_labels) = fashion_mnist.load_data()\n",
        "\n",
        "train_images, test_images = train_images/255., test_images/255."
      ],
      "execution_count": null,
      "outputs": []
    },
    {
      "cell_type": "code",
      "metadata": {
        "id": "FbAi0Nrf3-G6",
        "colab_type": "code",
        "colab": {}
      },
      "source": [
        "print(train_images.shape)\n",
        "print(train_labels.shape)\n",
        "train_images = np.reshape(train_images, (60000, 28, 28, 1))\n",
        "test_images = np.reshape(test_images, (*test_images.shape, 1))\n",
        "print(train_images.shape, test_images.shape)"
      ],
      "execution_count": null,
      "outputs": []
    },
    {
      "cell_type": "markdown",
      "metadata": {
        "id": "c0KNlbP4nIvI",
        "colab_type": "text"
      },
      "source": [
        "Class names for fashion MNIST are shown below."
      ]
    },
    {
      "cell_type": "code",
      "metadata": {
        "id": "-FMecYL9hQLJ",
        "colab_type": "code",
        "colab": {}
      },
      "source": [
        "class_names = ['T-shirt/top', 'Trouser', 'Pullover', 'Dress', 'Coat',\n",
        "               'Sandal', 'Shirt', 'Sneaker', 'Bag', 'Ankle boot']"
      ],
      "execution_count": null,
      "outputs": []
    },
    {
      "cell_type": "markdown",
      "metadata": {
        "id": "VU3lCcB2nVIF",
        "colab_type": "text"
      },
      "source": [
        "# show Function\n",
        "show function is used for the representation of images and labels."
      ]
    },
    {
      "cell_type": "code",
      "metadata": {
        "id": "dH-i6BInhbK9",
        "colab_type": "code",
        "colab": {}
      },
      "source": [
        "def show(image, label):\n",
        "  plt.figure()\n",
        "  plt.imshow(image)\n",
        "  plt.axis('off')\n",
        "  plt.title(class_names[label])\n",
        "  plt.show()"
      ],
      "execution_count": null,
      "outputs": []
    },
    {
      "cell_type": "code",
      "metadata": {
        "id": "QHGVxXxWh8M1",
        "colab_type": "code",
        "colab": {}
      },
      "source": [
        "index = 1000\n",
        "show(train_images[index, :, :, 0], train_labels[index])"
      ],
      "execution_count": null,
      "outputs": []
    },
    {
      "cell_type": "markdown",
      "metadata": {
        "id": "B-apK6PvnhaY",
        "colab_type": "text"
      },
      "source": [
        "# Neural Network\n",
        "We use keras **Sequential** class in order to create ordinary neural networks. It's so fun and easy to use."
      ]
    },
    {
      "cell_type": "code",
      "metadata": {
        "id": "bechi4whiMLm",
        "colab_type": "code",
        "colab": {}
      },
      "source": [
        "model = keras.Sequential()\n",
        "model.add(keras.layers.Conv2D(32, (5, 5), padding='same', activation='relu', input_shape=(28, 28, 1)))\n",
        "model.add(keras.layers.MaxPool2D())\n",
        "model.add(keras.layers.Conv2D(64, (5, 5), padding='same', activation='relu'))\n",
        "model.add(keras.layers.MaxPool2D())\n",
        "model.add(keras.layers.Conv2D(128, (5, 5), padding='same', activation='relu'))\n",
        "model.add(keras.layers.MaxPool2D())\n",
        "model.add(keras.layers.Flatten())\n",
        "model.add(keras.layers.Dense(10, activation='softmax'))\n",
        "model.summary()"
      ],
      "execution_count": null,
      "outputs": []
    },
    {
      "cell_type": "markdown",
      "metadata": {
        "id": "Widmekofn0h_",
        "colab_type": "text"
      },
      "source": [
        "Some more settings..."
      ]
    },
    {
      "cell_type": "code",
      "metadata": {
        "id": "qPR2ciQDjT-q",
        "colab_type": "code",
        "colab": {}
      },
      "source": [
        "model.compile(optimizer='adam', loss=keras.losses.SparseCategoricalCrossentropy(), metrics='accuracy')"
      ],
      "execution_count": null,
      "outputs": []
    },
    {
      "cell_type": "markdown",
      "metadata": {
        "id": "HYpQhALAn4SB",
        "colab_type": "text"
      },
      "source": [
        "## Training The Model\n",
        "To train the model, we use **fit** function."
      ]
    },
    {
      "cell_type": "code",
      "metadata": {
        "id": "xPutgSYSkbBK",
        "colab_type": "code",
        "colab": {}
      },
      "source": [
        "model.fit(train_images, train_labels, epochs=5, validation_data=(test_images, test_labels))"
      ],
      "execution_count": null,
      "outputs": []
    },
    {
      "cell_type": "markdown",
      "metadata": {
        "id": "e5sCvkSIoLIs",
        "colab_type": "text"
      },
      "source": [
        "# Evaluating The Model"
      ]
    },
    {
      "cell_type": "code",
      "metadata": {
        "id": "MkWcJYReknk8",
        "colab_type": "code",
        "colab": {}
      },
      "source": [
        "index = 28\n",
        "print(model.predict(test_images[index:index+1]))\n",
        "predicted = np.argmax(model.predict(test_images[index:index+1]))\n",
        "print(np.sum(model.predict(test_images[index:index+1])))\n",
        "print(class_names[predicted])\n",
        "show(test_images[index, :, :, 0], predicted)"
      ],
      "execution_count": null,
      "outputs": []
    },
    {
      "cell_type": "markdown",
      "metadata": {
        "id": "w4Dfo6FwR4sK",
        "colab_type": "text"
      },
      "source": [
        "<img src=\"https://github.com/M-H-Amini/MachineLearning-AUT/blob/master/stuff/f2.jpg?raw=true\" width=\"450\">"
      ]
    }
  ]
}
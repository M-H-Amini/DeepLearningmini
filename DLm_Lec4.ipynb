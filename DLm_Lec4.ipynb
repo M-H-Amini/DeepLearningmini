{
  "nbformat": 4,
  "nbformat_minor": 0,
  "metadata": {
    "colab": {
      "name": "DLm-Lec4.ipynb",
      "provenance": [],
      "collapsed_sections": [],
      "authorship_tag": "ABX9TyNmQlqmUdO78EM5q1HSoOX1",
      "include_colab_link": true
    },
    "kernelspec": {
      "name": "python3",
      "display_name": "Python 3"
    }
  },
  "cells": [
    {
      "cell_type": "markdown",
      "metadata": {
        "id": "view-in-github",
        "colab_type": "text"
      },
      "source": [
        "<a href=\"https://colab.research.google.com/github/M-H-Amini/DeepLearningmini/blob/master/DLm_Lec4.ipynb\" target=\"_parent\"><img src=\"https://colab.research.google.com/assets/colab-badge.svg\" alt=\"Open In Colab\"/></a>"
      ]
    },
    {
      "cell_type": "markdown",
      "metadata": {
        "id": "E-qltXb4mBH8",
        "colab_type": "text"
      },
      "source": [
        "# In The Name Of ALLAH\n",
        "# Deep Learning *mini* Course\n",
        "## PythonChallenge.ir\n",
        "### Mohammad Hossein Amini (mhamini@aut.ac.ir)\n",
        "# Lecture 4 - Recurrent Neural Networks\n",
        "\n",
        "<img src=\"https://drive.google.com/uc?id=1ZJC1oII4kLDO1FM8SkaWr8_r63xrmrsn\" width=\"400\">\n",
        "\n"
      ]
    },
    {
      "cell_type": "markdown",
      "metadata": {
        "id": "6dPwSYBxmKM3",
        "colab_type": "text"
      },
      "source": [
        "The theoretical stuff and concepts were discussed in video lectures. Now, let's approximate a simple dataset with **LSTM**s."
      ]
    },
    {
      "cell_type": "code",
      "metadata": {
        "id": "RUD_BsCQzqGr",
        "colab_type": "code",
        "colab": {}
      },
      "source": [
        "import keras\n",
        "import numpy as np\n",
        "import matplotlib.pyplot as plt"
      ],
      "execution_count": null,
      "outputs": []
    },
    {
      "cell_type": "markdown",
      "metadata": {
        "id": "qggMtzB7mYQQ",
        "colab_type": "text"
      },
      "source": [
        "# Dataset \n",
        "We will create a dataset of sinusoidal signal and try to approximate it with **LSTM** in a sequential manner."
      ]
    },
    {
      "cell_type": "code",
      "metadata": {
        "id": "uiqQncfCmYdU",
        "colab_type": "code",
        "colab": {}
      },
      "source": [
        "X = np.linspace(-6, 6, 500)[:, np.newaxis]\n",
        "y = np.sin(X)\n",
        "\n",
        "print(X.shape, y.shape)\n",
        "XX = []\n",
        "yy = []\n",
        "for i in range(500-10):\n",
        "  XX.append(y[i:i+10])\n",
        "  yy.append(y[i+10])\n",
        "\n",
        "XX = np.array(XX)\n",
        "yy = np.array(yy)\n",
        "print(XX.shape, yy.shape)"
      ],
      "execution_count": null,
      "outputs": []
    },
    {
      "cell_type": "markdown",
      "metadata": {
        "id": "Jejv_Z-Wm5JY",
        "colab_type": "text"
      },
      "source": [
        "# Model"
      ]
    },
    {
      "cell_type": "code",
      "metadata": {
        "id": "AU8ToUae32KA",
        "colab_type": "code",
        "colab": {}
      },
      "source": [
        "inputs = keras.layers.Input(shape=(10,1), dtype='float32')\n",
        "x = keras.layers.LSTM(64)(inputs)\n",
        "x = keras.layers.Dense(1, activation='tanh')(x)\n",
        "\n",
        "model = keras.Model(inputs, x)\n",
        "model.summary()"
      ],
      "execution_count": null,
      "outputs": []
    },
    {
      "cell_type": "code",
      "metadata": {
        "id": "0gP6EyOcxbqQ",
        "colab_type": "code",
        "colab": {}
      },
      "source": [
        "model.compile('adam', 'mse')\n",
        "model.fit(XX, yy, batch_size=32, epochs=50)"
      ],
      "execution_count": null,
      "outputs": []
    },
    {
      "cell_type": "markdown",
      "metadata": {
        "id": "o8f0sLXNpAl1",
        "colab_type": "text"
      },
      "source": [
        "# Evaluation"
      ]
    },
    {
      "cell_type": "code",
      "metadata": {
        "id": "61KvmrLC4IYB",
        "colab_type": "code",
        "colab": {}
      },
      "source": [
        "plt.figure()\n",
        "for i in range(XX.shape[0]):\n",
        "  plt.plot(i, yy[i, 0], 'bo')\n",
        "  plt.plot(i, model.predict(XX[i:i+1]), 'rx')\n",
        "plt.show()"
      ],
      "execution_count": null,
      "outputs": []
    }
  ]
}
{
  "nbformat": 4,
  "nbformat_minor": 0,
  "metadata": {
    "colab": {
      "name": "DLmini-Lec0-Intro.ipynb",
      "provenance": [],
      "collapsed_sections": [],
      "toc_visible": true,
      "authorship_tag": "ABX9TyMETsu49fyQ8jWyXcmBgZvC",
      "include_colab_link": true
    },
    "kernelspec": {
      "name": "python3",
      "display_name": "Python 3"
    }
  },
  "cells": [
    {
      "cell_type": "markdown",
      "metadata": {
        "id": "view-in-github",
        "colab_type": "text"
      },
      "source": [
        "<a href=\"https://colab.research.google.com/github/M-H-Amini/DeepLearningmini/blob/master/DLmini_Lec0_Intro.ipynb\" target=\"_parent\"><img src=\"https://colab.research.google.com/assets/colab-badge.svg\" alt=\"Open In Colab\"/></a>"
      ]
    },
    {
      "cell_type": "markdown",
      "metadata": {
        "id": "5cPtAMSHjXhb",
        "colab_type": "text"
      },
      "source": [
        "# In The Name Of ALLAH\n",
        "# Deep Learning *mini* Course\n",
        "## PythonChallenge.ir\n",
        "### Mohammad Hossein Amini (mhamini@aut.ac.ir)\n",
        "# Lecture 0 - Intro\n",
        "\n",
        "<img src=\"https://drive.google.com/uc?id=1ZJC1oII4kLDO1FM8SkaWr8_r63xrmrsn\" width=\"400\">\n",
        "\n"
      ]
    },
    {
      "cell_type": "markdown",
      "metadata": {
        "id": "IFF_jUOWlJjk",
        "colab_type": "text"
      },
      "source": [
        "# Basic Operations"
      ]
    },
    {
      "cell_type": "code",
      "metadata": {
        "id": "N-02BVsKjKry",
        "colab_type": "code",
        "colab": {
          "base_uri": "https://localhost:8080/",
          "height": 69
        },
        "outputId": "cfc5a627-620b-49e0-d14c-18cabebc2bc2"
      },
      "source": [
        "print('Deep Learning Course')\n",
        "input('Enter your name: ')"
      ],
      "execution_count": null,
      "outputs": [
        {
          "output_type": "stream",
          "text": [
            "Deep Learning Course\n",
            "Enter your name: Mohammad Hossein\n"
          ],
          "name": "stdout"
        },
        {
          "output_type": "execute_result",
          "data": {
            "application/vnd.google.colaboratory.intrinsic+json": {
              "type": "string"
            },
            "text/plain": [
              "'Mohammad Hossein'"
            ]
          },
          "metadata": {
            "tags": []
          },
          "execution_count": 2
        }
      ]
    },
    {
      "cell_type": "markdown",
      "metadata": {
        "id": "WryOVoQBlk3r",
        "colab_type": "text"
      },
      "source": [
        "# Variables"
      ]
    },
    {
      "cell_type": "code",
      "metadata": {
        "id": "p_htMK0Tlji1",
        "colab_type": "code",
        "colab": {
          "base_uri": "https://localhost:8080/",
          "height": 68
        },
        "outputId": "2032df90-d659-4c17-f691-00ab3525b6c1"
      },
      "source": [
        "a = 5\n",
        "print(type(a))\n",
        "a = 4.5\n",
        "print(type(a))\n",
        "a = 'Hi'\n",
        "print(type(a))"
      ],
      "execution_count": null,
      "outputs": [
        {
          "output_type": "stream",
          "text": [
            "<class 'int'>\n",
            "<class 'float'>\n",
            "<class 'str'>\n"
          ],
          "name": "stdout"
        }
      ]
    },
    {
      "cell_type": "markdown",
      "metadata": {
        "id": "8FY99NEvlxKy",
        "colab_type": "text"
      },
      "source": [
        "# Arrays"
      ]
    },
    {
      "cell_type": "code",
      "metadata": {
        "id": "ypebv6obl8db",
        "colab_type": "code",
        "colab": {
          "base_uri": "https://localhost:8080/",
          "height": 68
        },
        "outputId": "b37b2861-795a-4570-96c8-6508bd3d24ed"
      },
      "source": [
        "'''\n",
        "a = [5, 28, 13, 'DL', 3.1415]\n",
        "print(a[-2])\n",
        "print(a[1:4])\n",
        "a.append(10)\n",
        "print(a)\n",
        "print(a + a)\n",
        "'''\n",
        "'''\n",
        "b = [5, 4, 9]\n",
        "b[0] = 10\n",
        "#print(b)\n",
        "a = (5, 4, 9)\n",
        "#a[0] = 10\n",
        "#print(a)\n",
        "\n",
        "a = 5, 10, 20\n",
        "print(a[-1])\n",
        "m, n, o = a\n",
        "print(m)\n",
        "'''\n",
        "\n",
        "grades = {'Hossein':17, 'Ali':19}\n",
        "k = list(grades.keys())\n",
        "print(k)\n",
        "v = list(grades.values())\n",
        "print(v)\n",
        "print(list(grades.items()))"
      ],
      "execution_count": null,
      "outputs": [
        {
          "output_type": "stream",
          "text": [
            "['Hossein', 'Ali']\n",
            "[17, 19]\n",
            "[('Hossein', 17), ('Ali', 19)]\n"
          ],
          "name": "stdout"
        }
      ]
    },
    {
      "cell_type": "markdown",
      "metadata": {
        "id": "fHMZ7qCZl9qw",
        "colab_type": "text"
      },
      "source": [
        "# Control Flows "
      ]
    },
    {
      "cell_type": "code",
      "metadata": {
        "id": "AMx9HGbvmXos",
        "colab_type": "code",
        "colab": {
          "base_uri": "https://localhost:8080/",
          "height": 102
        },
        "outputId": "14625aac-af0a-4b6a-9f41-b875289119b2"
      },
      "source": [
        "'''\n",
        "grade = 8\n",
        "if (grade>=17):\n",
        "  print('A')\n",
        "elif grade >= 14 and grade < 17:\n",
        "  print('B')\n",
        "elif grade < 14 and grade >=10:\n",
        "  print('C')\n",
        "else:\n",
        "  print('D')\n",
        "\n",
        "a = [1, 3, 8, 'Hi']\n",
        "for i in a:\n",
        "  print(i)\n",
        "\n",
        "a = 10\n",
        "while a>0:\n",
        "  print(a)\n",
        "  a -= 2\n",
        "'''"
      ],
      "execution_count": null,
      "outputs": [
        {
          "output_type": "stream",
          "text": [
            "10\n",
            "8\n",
            "6\n",
            "4\n",
            "2\n"
          ],
          "name": "stdout"
        }
      ]
    },
    {
      "cell_type": "markdown",
      "metadata": {
        "id": "yACatlndma_m",
        "colab_type": "text"
      },
      "source": [
        "# Functions"
      ]
    },
    {
      "cell_type": "code",
      "metadata": {
        "id": "rzKkJbqvm_hW",
        "colab_type": "code",
        "colab": {
          "base_uri": "https://localhost:8080/",
          "height": 34
        },
        "outputId": "5fef0422-5b2c-47af-9e91-25a9a9d37676"
      },
      "source": [
        "def factors(x):\n",
        "  return [i for i in range(1, x + 1) if not x % i]\n",
        "\n",
        "#print(factors(20))\n",
        "def isPrime(x):\n",
        "  return 1 if len(factors(x))==2 else 0\n",
        "print(isPrime(8))"
      ],
      "execution_count": null,
      "outputs": [
        {
          "output_type": "stream",
          "text": [
            "0\n"
          ],
          "name": "stdout"
        }
      ]
    },
    {
      "cell_type": "markdown",
      "metadata": {
        "id": "qv9GIHDdS5EL",
        "colab_type": "text"
      },
      "source": [
        "# Classes"
      ]
    },
    {
      "cell_type": "code",
      "metadata": {
        "id": "FQPWmGNMS8jQ",
        "colab_type": "code",
        "colab": {
          "base_uri": "https://localhost:8080/",
          "height": 51
        },
        "outputId": "8254043a-f5ee-4b70-f51a-b8dfe1cca371"
      },
      "source": [
        "class CAR:\n",
        "  def __init__(self, name, owner, c, height):\n",
        "    print('Car created!!!')\n",
        "    self.name = name\n",
        "    self.owner = owner\n",
        "    self.color = c\n",
        "    self.height = height\n",
        "    self.i = None\n",
        "  \n",
        "  def show(self):\n",
        "    print(f'Car: {self.name}, Owner: {self.owner}, Color: {self.color}, Height: {self.height}')\n",
        "    \n",
        "\n",
        "a = CAR('207', 'Mohammad', 'White', 1.7)\n",
        "a.show()"
      ],
      "execution_count": null,
      "outputs": [
        {
          "output_type": "stream",
          "text": [
            "Car created!!!\n",
            "Car: 207, Owner: Mohammad, Color: White, Height: 1.7\n"
          ],
          "name": "stdout"
        }
      ]
    },
    {
      "cell_type": "markdown",
      "metadata": {
        "id": "YyDzBXFbm-kk",
        "colab_type": "text"
      },
      "source": [
        "# Matplotlib"
      ]
    },
    {
      "cell_type": "code",
      "metadata": {
        "id": "In4KVMM9n-gW",
        "colab_type": "code",
        "colab": {
          "base_uri": "https://localhost:8080/",
          "height": 281
        },
        "outputId": "cdcc6b74-4021-45a8-aacc-0ffbeeb42604"
      },
      "source": [
        "import matplotlib.pyplot as plt\n",
        "t = [0, 1, 2, 3, 4]\n",
        "value = [12.3, 8.2, 0, 20, 12]\n",
        "\n",
        "plt.figure()\n",
        "plt.plot(t, value, 'r--x')\n",
        "plt.title('Measurments')\n",
        "plt.yticks([12, 8])\n",
        "plt.xticks(t)\n",
        "plt.grid()\n",
        "plt.show()"
      ],
      "execution_count": null,
      "outputs": [
        {
          "output_type": "display_data",
          "data": {
            "image/png": "[encoded data removed]",
            "text/plain": [
              "<Figure size 432x288 with 1 Axes>"
            ]
          },
          "metadata": {
            "tags": [],
            "needs_background": "light"
          }
        }
      ]
    },
    {
      "cell_type": "code",
      "metadata": {
        "id": "0HC3gjU9cHG4",
        "colab_type": "code",
        "colab": {
          "base_uri": "https://localhost:8080/",
          "height": 269
        },
        "outputId": "5d04072c-e9ac-4de6-bf3d-d776caf81234"
      },
      "source": [
        "img = plt.imread('f1.jpeg')\n",
        "plt.figure()\n",
        "plt.imshow(img, cmap='gray')\n",
        "plt.show()"
      ],
      "execution_count": null,
      "outputs": [
        {
          "output_type": "display_data",
          "data": {
            "image/png": "[encoded data removed]",
            "text/plain": [
              "<Figure size 432x288 with 1 Axes>"
            ]
          },
          "metadata": {
            "tags": [],
            "needs_background": "light"
          }
        }
      ]
    },
    {
      "cell_type": "markdown",
      "metadata": {
        "id": "kqpsrIYZn-45",
        "colab_type": "text"
      },
      "source": [
        "# Numpy\n"
      ]
    },
    {
      "cell_type": "code",
      "metadata": {
        "id": "jK2GEX01oSSB",
        "colab_type": "code",
        "colab": {
          "base_uri": "https://localhost:8080/",
          "height": 187
        },
        "outputId": "a7879fc1-7160-4e3f-ebfa-6c8187300d08"
      },
      "source": [
        "import numpy as np\n",
        "\n",
        "'''\n",
        "arr = np.array([[1, 2, 8], [2, 3, 4]])\n",
        "#arr = np.array([[[1, 2, 8], [0, 0, 0]]])\n",
        "print(arr.shape)\n",
        "a = arr[0:1, 1:]\n",
        "print(a.shape)\n",
        "print(a)\n",
        "'''\n",
        "\n",
        "n = [0, np.pi, np. pi/4]\n",
        "s = np.sin(n)\n",
        "#print(np.argmax(s))\n",
        "\n",
        "i = np.eye(3)\n",
        "print(i)\n",
        "print(np.linalg.det(i))\n",
        "\n",
        "a = np.random.rand(3, 3)\n",
        "print(a)\n",
        "\n",
        "print(np.dot(a, i))"
      ],
      "execution_count": null,
      "outputs": [
        {
          "output_type": "stream",
          "text": [
            "[[1. 0. 0.]\n",
            " [0. 1. 0.]\n",
            " [0. 0. 1.]]\n",
            "1.0\n",
            "[[0.39907533 0.72699957 0.48263525]\n",
            " [0.22405044 0.45113614 0.78861012]\n",
            " [0.1288082  0.69567732 0.77924597]]\n",
            "[[0.39907533 0.72699957 0.48263525]\n",
            " [0.22405044 0.45113614 0.78861012]\n",
            " [0.1288082  0.69567732 0.77924597]]\n"
          ],
          "name": "stdout"
        }
      ]
    },
    {
      "cell_type": "code",
      "metadata": {
        "id": "vjyaPcl-gcA_",
        "colab_type": "code",
        "colab": {
          "base_uri": "https://localhost:8080/",
          "height": 85
        },
        "outputId": "03be786c-dc10-4637-8f2d-19251b41e1e8"
      },
      "source": [
        "import time\n",
        "\n",
        "a = np.random.rand(1000000)\n",
        "b = np.random.rand(1000000)\n",
        "\n",
        "t0 = time.time()\n",
        "c=0\n",
        "for i in range(a.shape[0]):\n",
        "  c += a[i] * b [i]\n",
        "\n",
        "t1= time.time()\n",
        "print('It took {} seconds!'.format(t1-t0))\n",
        "print(c)\n",
        "\n",
        "t0 = time.time()\n",
        "c = np.dot(a, b)\n",
        "t1= time.time()\n",
        "print('It took {} seconds!'.format(t1-t0))\n",
        "print(c)\n",
        "\n",
        "\n"
      ],
      "execution_count": null,
      "outputs": [
        {
          "output_type": "stream",
          "text": [
            "It took 0.7844727039337158 seconds!\n",
            "250119.5478490243\n",
            "It took 0.0014522075653076172 seconds!\n",
            "250119.54784901708\n"
          ],
          "name": "stdout"
        }
      ]
    },
    {
      "cell_type": "markdown",
      "metadata": {
        "id": "N7cBSUHPoWCL",
        "colab_type": "text"
      },
      "source": [
        "# Pandas"
      ]
    },
    {
      "cell_type": "code",
      "metadata": {
        "id": "gsaLqdL8oZ9V",
        "colab_type": "code",
        "colab": {
          "base_uri": "https://localhost:8080/",
          "height": 317
        },
        "outputId": "faf12294-1bd7-4e2e-9b60-a7431c361195"
      },
      "source": [
        "import pandas as pd\n",
        "\n",
        "data = pd.read_csv('sample_data/california_housing_test.csv')\n",
        "\n",
        "data.head(20)\n",
        "\n",
        "data.describe()\n"
      ],
      "execution_count": 110,
      "outputs": [
        {
          "output_type": "execute_result",
          "data": {
            "text/html": [
              "<div>\n",
              "<style scoped>\n",
              "    .dataframe tbody tr th:only-of-type {\n",
              "        vertical-align: middle;\n",
              "    }\n",
              "\n",
              "    .dataframe tbody tr th {\n",
              "        vertical-align: top;\n",
              "    }\n",
              "\n",
              "    .dataframe thead th {\n",
              "        text-align: right;\n",
              "    }\n",
              "</style>\n",
              "<table border=\"1\" class=\"dataframe\">\n",
              "  <thead>\n",
              "    <tr style=\"text-align: right;\">\n",
              "      <th></th>\n",
              "      <th>longitude</th>\n",
              "      <th>latitude</th>\n",
              "      <th>housing_median_age</th>\n",
              "      <th>total_rooms</th>\n",
              "      <th>total_bedrooms</th>\n",
              "      <th>population</th>\n",
              "      <th>households</th>\n",
              "      <th>median_income</th>\n",
              "      <th>median_house_value</th>\n",
              "    </tr>\n",
              "  </thead>\n",
              "  <tbody>\n",
              "    <tr>\n",
              "      <th>count</th>\n",
              "      <td>3000.000000</td>\n",
              "      <td>3000.00000</td>\n",
              "      <td>3000.000000</td>\n",
              "      <td>3000.000000</td>\n",
              "      <td>3000.000000</td>\n",
              "      <td>3000.000000</td>\n",
              "      <td>3000.00000</td>\n",
              "      <td>3000.000000</td>\n",
              "      <td>3000.00000</td>\n",
              "    </tr>\n",
              "    <tr>\n",
              "      <th>mean</th>\n",
              "      <td>-119.589200</td>\n",
              "      <td>35.63539</td>\n",
              "      <td>28.845333</td>\n",
              "      <td>2599.578667</td>\n",
              "      <td>529.950667</td>\n",
              "      <td>1402.798667</td>\n",
              "      <td>489.91200</td>\n",
              "      <td>3.807272</td>\n",
              "      <td>205846.27500</td>\n",
              "    </tr>\n",
              "    <tr>\n",
              "      <th>std</th>\n",
              "      <td>1.994936</td>\n",
              "      <td>2.12967</td>\n",
              "      <td>12.555396</td>\n",
              "      <td>2155.593332</td>\n",
              "      <td>415.654368</td>\n",
              "      <td>1030.543012</td>\n",
              "      <td>365.42271</td>\n",
              "      <td>1.854512</td>\n",
              "      <td>113119.68747</td>\n",
              "    </tr>\n",
              "    <tr>\n",
              "      <th>min</th>\n",
              "      <td>-124.180000</td>\n",
              "      <td>32.56000</td>\n",
              "      <td>1.000000</td>\n",
              "      <td>6.000000</td>\n",
              "      <td>2.000000</td>\n",
              "      <td>5.000000</td>\n",
              "      <td>2.00000</td>\n",
              "      <td>0.499900</td>\n",
              "      <td>22500.00000</td>\n",
              "    </tr>\n",
              "    <tr>\n",
              "      <th>25%</th>\n",
              "      <td>-121.810000</td>\n",
              "      <td>33.93000</td>\n",
              "      <td>18.000000</td>\n",
              "      <td>1401.000000</td>\n",
              "      <td>291.000000</td>\n",
              "      <td>780.000000</td>\n",
              "      <td>273.00000</td>\n",
              "      <td>2.544000</td>\n",
              "      <td>121200.00000</td>\n",
              "    </tr>\n",
              "    <tr>\n",
              "      <th>50%</th>\n",
              "      <td>-118.485000</td>\n",
              "      <td>34.27000</td>\n",
              "      <td>29.000000</td>\n",
              "      <td>2106.000000</td>\n",
              "      <td>437.000000</td>\n",
              "      <td>1155.000000</td>\n",
              "      <td>409.50000</td>\n",
              "      <td>3.487150</td>\n",
              "      <td>177650.00000</td>\n",
              "    </tr>\n",
              "    <tr>\n",
              "      <th>75%</th>\n",
              "      <td>-118.020000</td>\n",
              "      <td>37.69000</td>\n",
              "      <td>37.000000</td>\n",
              "      <td>3129.000000</td>\n",
              "      <td>636.000000</td>\n",
              "      <td>1742.750000</td>\n",
              "      <td>597.25000</td>\n",
              "      <td>4.656475</td>\n",
              "      <td>263975.00000</td>\n",
              "    </tr>\n",
              "    <tr>\n",
              "      <th>max</th>\n",
              "      <td>-114.490000</td>\n",
              "      <td>41.92000</td>\n",
              "      <td>52.000000</td>\n",
              "      <td>30450.000000</td>\n",
              "      <td>5419.000000</td>\n",
              "      <td>11935.000000</td>\n",
              "      <td>4930.00000</td>\n",
              "      <td>15.000100</td>\n",
              "      <td>500001.00000</td>\n",
              "    </tr>\n",
              "  </tbody>\n",
              "</table>\n",
              "</div>"
            ],
            "text/plain": [
              "         longitude    latitude  ...  median_income  median_house_value\n",
              "count  3000.000000  3000.00000  ...    3000.000000          3000.00000\n",
              "mean   -119.589200    35.63539  ...       3.807272        205846.27500\n",
              "std       1.994936     2.12967  ...       1.854512        113119.68747\n",
              "min    -124.180000    32.56000  ...       0.499900         22500.00000\n",
              "25%    -121.810000    33.93000  ...       2.544000        121200.00000\n",
              "50%    -118.485000    34.27000  ...       3.487150        177650.00000\n",
              "75%    -118.020000    37.69000  ...       4.656475        263975.00000\n",
              "max    -114.490000    41.92000  ...      15.000100        500001.00000\n",
              "\n",
              "[8 rows x 9 columns]"
            ]
          },
          "metadata": {
            "tags": []
          },
          "execution_count": 110
        }
      ]
    },
    {
      "cell_type": "code",
      "metadata": {
        "id": "o1vTlf42kc15",
        "colab_type": "code",
        "colab": {
          "base_uri": "https://localhost:8080/",
          "height": 34
        },
        "outputId": "0133cd9c-7384-4fdd-c9e1-3189d008f0df"
      },
      "source": [
        "arr = np.array(data)\n",
        "print(arr.shape)"
      ],
      "execution_count": 112,
      "outputs": [
        {
          "output_type": "stream",
          "text": [
            "(3000, 9)\n"
          ],
          "name": "stdout"
        }
      ]
    }
  ]
}
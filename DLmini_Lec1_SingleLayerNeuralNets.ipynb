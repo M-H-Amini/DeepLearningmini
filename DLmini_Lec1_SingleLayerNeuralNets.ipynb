{
  "nbformat": 4,
  "nbformat_minor": 0,
  "metadata": {
    "colab": {
      "name": "DLm-Lec1.ipynb",
      "provenance": [],
      "authorship_tag": "ABX9TyOrVScgDSM1Yl/CjCeZj5zC",
      "include_colab_link": true
    },
    "kernelspec": {
      "name": "python3",
      "display_name": "Python 3"
    }
  },
  "cells": [
    {
      "cell_type": "markdown",
      "metadata": {
        "id": "view-in-github",
        "colab_type": "text"
      },
      "source": [
        "<a href=\"https://colab.research.google.com/github/M-H-Amini/DeepLearningmini/blob/master/DLmini_Lec1_SingleLayerNeuralNets.ipynb\" target=\"_parent\"><img src=\"https://colab.research.google.com/assets/colab-badge.svg\" alt=\"Open In Colab\"/></a>"
      ]
    },
    {
      "cell_type": "markdown",
      "metadata": {
        "id": "6ivY0ss_KViv",
        "colab_type": "text"
      },
      "source": [
        "# In The Name Of ALLAH\n",
        "# Deep Learning *mini* Course\n",
        "## PythonChallenge.ir\n",
        "### Mohammad Hossein Amini (mhamini@aut.ac.ir)\n",
        "# Lecture 1 - Single-Layer Neural Networks\n",
        "\n",
        "<img src=\"https://drive.google.com/uc?id=1ZJC1oII4kLDO1FM8SkaWr8_r63xrmrsn\" width=\"400\">\n",
        "\n"
      ]
    },
    {
      "cell_type": "markdown",
      "metadata": {
        "id": "1n24wBWsKchA",
        "colab_type": "text"
      },
      "source": [
        "# Simple Linear Regression\n",
        "Let's make a tiny dataset to begin exploring! We would make a simple noise-corrupted line and try to fit a neural net to it. Let's do it."
      ]
    },
    {
      "cell_type": "code",
      "metadata": {
        "id": "yIW08HXKAPgj",
        "colab_type": "code",
        "colab": {}
      },
      "source": [
        "import numpy as np\n",
        "import pandas as pd\n",
        "import matplotlib.pyplot as plt\n",
        "import keras"
      ],
      "execution_count": null,
      "outputs": []
    },
    {
      "cell_type": "markdown",
      "metadata": {
        "id": "qLvXeClMKxIm",
        "colab_type": "text"
      },
      "source": [
        "# Creating Dataset\n"
      ]
    },
    {
      "cell_type": "code",
      "metadata": {
        "id": "Z6r-IfPZAW1l",
        "colab_type": "code",
        "colab": {}
      },
      "source": [
        "X = np.linspace(10, 50, 50)[:, np.newaxis]\n",
        "y = 2.4 * X + 3.5 + 10 * np.random.rand(*X.shape)\n",
        "print(X.shape, y.shape)"
      ],
      "execution_count": null,
      "outputs": []
    },
    {
      "cell_type": "code",
      "metadata": {
        "id": "BvvJ7_rezjTO",
        "colab_type": "code",
        "colab": {}
      },
      "source": [
        "plt.figure()\n",
        "plt.plot(X, y, 'rx')\n",
        "plt.show()"
      ],
      "execution_count": null,
      "outputs": []
    },
    {
      "cell_type": "markdown",
      "metadata": {
        "id": "cbYzXC2FgbSv",
        "colab_type": "text"
      },
      "source": [
        "# Creating Model\n",
        "Time to create the neural net! Thanks to **keras**, it's super easy."
      ]
    },
    {
      "cell_type": "code",
      "metadata": {
        "id": "gekJZ0esAhxn",
        "colab_type": "code",
        "colab": {}
      },
      "source": [
        "model = keras.Sequential()\n",
        "model.add(keras.layers.Dense(1, activation='linear', input_shape=(1,)))\n",
        "model.summary()"
      ],
      "execution_count": null,
      "outputs": []
    },
    {
      "cell_type": "code",
      "metadata": {
        "id": "C0yRGl2S1XB3",
        "colab_type": "code",
        "colab": {}
      },
      "source": [
        "model.compile(optimizer='adam', loss='mse')"
      ],
      "execution_count": null,
      "outputs": []
    },
    {
      "cell_type": "code",
      "metadata": {
        "id": "o7lDopa91fRu",
        "colab_type": "code",
        "colab": {}
      },
      "source": [
        "model.fit(X, y, batch_size=8, epochs=100)"
      ],
      "execution_count": null,
      "outputs": []
    },
    {
      "cell_type": "markdown",
      "metadata": {
        "id": "tE_CInDPgvOC",
        "colab_type": "text"
      },
      "source": [
        "# Testing The Model"
      ]
    },
    {
      "cell_type": "code",
      "metadata": {
        "id": "T1kvPVpZgzkr",
        "colab_type": "code",
        "colab": {}
      },
      "source": [
        "output = model.predict(X)\n",
        "plt.figure()\n",
        "plt.plot(X, y, 'rx', X, output, 'bo')\n",
        "plt.show()"
      ],
      "execution_count": null,
      "outputs": []
    },
    {
      "cell_type": "markdown",
      "metadata": {
        "id": "95s46PTngzzk",
        "colab_type": "text"
      },
      "source": [
        "# California Housing Dataset\n",
        "Let's see a real dataset now. Real datasets usually have their own challenges."
      ]
    },
    {
      "cell_type": "code",
      "metadata": {
        "id": "FTq-8rOMg-2O",
        "colab_type": "code",
        "colab": {}
      },
      "source": [
        "ds = pd.read_csv('sample_data/california_housing_train.csv')\n",
        "ds.head()"
      ],
      "execution_count": null,
      "outputs": []
    },
    {
      "cell_type": "code",
      "metadata": {
        "id": "IHj1dSmV5zGy",
        "colab_type": "code",
        "colab": {}
      },
      "source": [
        "ds.describe()"
      ],
      "execution_count": null,
      "outputs": []
    },
    {
      "cell_type": "code",
      "metadata": {
        "id": "gl7KEpsV37te",
        "colab_type": "code",
        "colab": {}
      },
      "source": [
        "ds_arr = np.array(ds)\n",
        "print(ds_arr.shape)\n",
        "X = ds_arr[:, :8]\n",
        "y = ds_arr[:, 8:]\n",
        "print(X.shape, y.shape)"
      ],
      "execution_count": null,
      "outputs": []
    },
    {
      "cell_type": "markdown",
      "metadata": {
        "id": "xauTYXdig_Ra",
        "colab_type": "text"
      },
      "source": [
        "# Creating Model\n",
        "Model creation is just like the last part."
      ]
    },
    {
      "cell_type": "code",
      "metadata": {
        "id": "dCsM9bTohMQl",
        "colab_type": "code",
        "colab": {}
      },
      "source": [
        "model = keras.Sequential([keras.layers.Dense(1, activation='linear', input_shape=(8,))])\n",
        "model.summary()"
      ],
      "execution_count": null,
      "outputs": []
    },
    {
      "cell_type": "code",
      "metadata": {
        "id": "OeG-ENIT4xch",
        "colab_type": "code",
        "colab": {}
      },
      "source": [
        "model.compile(optimizer='adam', loss='mse')"
      ],
      "execution_count": null,
      "outputs": []
    },
    {
      "cell_type": "code",
      "metadata": {
        "id": "8hZ2KAPt42K1",
        "colab_type": "code",
        "colab": {}
      },
      "source": [
        "model.fit(X, y, epochs=10)"
      ],
      "execution_count": null,
      "outputs": []
    },
    {
      "cell_type": "markdown",
      "metadata": {
        "id": "2w7GrnQjhNT6",
        "colab_type": "text"
      },
      "source": [
        "# What's The Problem?!\n",
        "As you see training seems so difficult now. Why?!"
      ]
    },
    {
      "cell_type": "code",
      "metadata": {
        "id": "_NgFhWBOhV_D",
        "colab_type": "code",
        "colab": {}
      },
      "source": [
        "mean = ds.mean()\n",
        "std = ds.std()\n",
        "normalized_ds = (ds - mean) / std\n",
        "#print(normalized_ds.std())"
      ],
      "execution_count": null,
      "outputs": []
    },
    {
      "cell_type": "code",
      "metadata": {
        "id": "ZehjWHha6kC8",
        "colab_type": "code",
        "colab": {}
      },
      "source": [
        "normalized_ds_arr = np.array(normalized_ds)\n",
        "print(normalized_ds_arr.shape)\n",
        "X = normalized_ds_arr[:, :8]\n",
        "y = normalized_ds_arr[:, 8:]\n",
        "print(X.shape, y.shape)"
      ],
      "execution_count": null,
      "outputs": []
    },
    {
      "cell_type": "code",
      "metadata": {
        "id": "tOLIvS9x6mRE",
        "colab_type": "code",
        "colab": {}
      },
      "source": [
        "model = keras.Sequential([keras.layers.Dense(1, activation='linear', input_shape=(8,))])\n",
        "model.summary()"
      ],
      "execution_count": null,
      "outputs": []
    },
    {
      "cell_type": "code",
      "metadata": {
        "id": "qrr8U5mo6o4c",
        "colab_type": "code",
        "colab": {}
      },
      "source": [
        "model.compile(optimizer='adam', loss='mse')"
      ],
      "execution_count": null,
      "outputs": []
    },
    {
      "cell_type": "code",
      "metadata": {
        "id": "0soN1WYY6q18",
        "colab_type": "code",
        "colab": {}
      },
      "source": [
        "model.fit(X, y, epochs=50)"
      ],
      "execution_count": null,
      "outputs": []
    },
    {
      "cell_type": "code",
      "metadata": {
        "id": "5vpCKtun62nc",
        "colab_type": "code",
        "colab": {}
      },
      "source": [
        "for i in range(20):\n",
        "  print(f'No {i+1}: \\t Target: {(y[i, 0]*std[-1])+mean[-1]}, \\t Output: {model.predict(X[i:i+1, :])*std[-1] + mean[-1]}')"
      ],
      "execution_count": null,
      "outputs": []
    }
  ]
}